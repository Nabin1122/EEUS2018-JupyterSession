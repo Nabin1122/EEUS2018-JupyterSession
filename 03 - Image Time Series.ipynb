{
 "cells": [
  {
   "cell_type": "markdown",
   "metadata": {},
   "source": [
    "# Overview\n",
    "\n",
    "This example shows how to extract a time series of images from Earth Engine, annotate them, and save them as a video."
   ]
  },
  {
   "cell_type": "markdown",
   "metadata": {},
   "source": [
    "# Initialize Earth Engine\n",
    "\n",
    "We start by importing the [Earth Engine Python API](https://pypi.org/project/earthengine-api/) module."
   ]
  },
  {
   "cell_type": "code",
   "execution_count": null,
   "metadata": {},
   "outputs": [],
   "source": [
    "import ee"
   ]
  },
  {
   "cell_type": "markdown",
   "metadata": {},
   "source": [
    "The following command initializes the Earth Engine Python API."
   ]
  },
  {
   "cell_type": "code",
   "execution_count": null,
   "metadata": {},
   "outputs": [],
   "source": [
    "ee.Initialize()"
   ]
  },
  {
   "cell_type": "markdown",
   "metadata": {},
   "source": [
    "If the cell output displays an error about needing to authenticate, open up a  JupyterLab terminal tab and run the command: `earthengine authenticate`"
   ]
  },
  {
   "cell_type": "markdown",
   "metadata": {},
   "source": [
    "# Building an image collection"
   ]
  },
  {
   "cell_type": "code",
   "execution_count": null,
   "metadata": {},
   "outputs": [],
   "source": [
    "import datetime\n",
    "import ipywidgets as widgets\n",
    "import ipyleaflet  # an interactive mapping \"widget\"\n",
    "from sidecar import Sidecar"
   ]
  },
  {
   "cell_type": "markdown",
   "metadata": {},
   "source": [
    "## Define User Interface Elements"
   ]
  },
  {
   "cell_type": "code",
   "execution_count": null,
   "metadata": {},
   "outputs": [],
   "source": [
    "roi_dimension = widgets.IntSlider(\n",
    "    value=1e4,\n",
    "    min=1e2,\n",
    "    max=1e5,\n",
    "    description='ROI Size (m):',\n",
    "    continuous_update=False,\n",
    ")"
   ]
  },
  {
   "cell_type": "code",
   "execution_count": null,
   "metadata": {},
   "outputs": [],
   "source": [
    "# Define the map.\n",
    "map1 = ipyleaflet.Map(\n",
    "    center=(0, -80.0),\n",
    "    zoom=8,\n",
    "    layout={'height':'300px'},\n",
    ")\n",
    "map1.add_control(ipyleaflet.LayersControl())\n",
    "\n",
    "# Define and add a Marker pin to the map.\n",
    "center_marker = ipyleaflet.Marker(\n",
    "    name='ROI Selection Marker',\n",
    "    location=map1.center\n",
    ")\n",
    "map1 += center_marker\n",
    "\n",
    "# Define a ROI layer group and add it to the map.\n",
    "# roi_layer = ipyleaflet.Polygon(\n",
    "#     name='ROI Polygon',\n",
    "#     locations=[(0, -80), (0, -81), (1, -81)],\n",
    "#     color=\"green\",\n",
    "#     fill_color=\"green\"\n",
    "# )\n",
    "# map1 += roi_layer\n",
    "roi_layer_group = ipyleaflet.LayerGroup(layers=())\n",
    "map1 += roi_layer_group"
   ]
  },
  {
   "cell_type": "code",
   "execution_count": null,
   "metadata": {},
   "outputs": [],
   "source": [
    "start_datepicker = widgets.DatePicker(\n",
    "    description='Start Date',\n",
    "    disabled=False,\n",
    "    value=datetime.datetime(2017, 8, 20)\n",
    ")\n",
    "end_datepicker = widgets.DatePicker(\n",
    "    description='End Date',\n",
    "    disabled=False,\n",
    "    value=datetime.datetime(2017, 9, 20)\n",
    ")"
   ]
  },
  {
   "cell_type": "code",
   "execution_count": null,
   "metadata": {},
   "outputs": [],
   "source": [
    "out = widgets.Output()"
   ]
  },
  {
   "cell_type": "markdown",
   "metadata": {},
   "source": [
    "## Display the UI Elements"
   ]
  },
  {
   "cell_type": "code",
   "execution_count": null,
   "metadata": {},
   "outputs": [],
   "source": [
    "# Layout the UI elements.\n",
    "panel = widgets.VBox([\n",
    "    map1,\n",
    "    start_datepicker,\n",
    "    end_datepicker,\n",
    "    roi_dimension,\n",
    "    out\n",
    "])\n",
    "\n",
    "# Display the UI elements in a side panel.\n",
    "sc = Sidecar(title='UI Panel')\n",
    "with sc:\n",
    "    display(panel)"
   ]
  },
  {
   "cell_type": "markdown",
   "metadata": {},
   "source": [
    "## Define interactions"
   ]
  },
  {
   "cell_type": "code",
   "execution_count": null,
   "metadata": {},
   "outputs": [],
   "source": [
    "# Define a helper function to swap the coordinate ordering.\n",
    "\n",
    "def swap_coordinate_xy_for_location(coord):\n",
    "    return (coord[1],coord[0]) \n",
    "def swap_coordinate_xy_for_list(coord_list):\n",
    "    return [swap_coordinate_xy_for_location(coord) for coord in coord_list]\n",
    "\n",
    "def update_roi_layer(map_reference):\n",
    "#     print('DEBUG starting update_roi_layer')\n",
    "    \n",
    "    center_marker_xy = swap_coordinate_xy_for_location(center_marker.location)\n",
    "    centroid = ee.Geometry.Point(center_marker_xy)\n",
    "    buffered = centroid.buffer(roi_dimension.value).bounds()\n",
    "    coord_list_xy = buffered.getInfo()['coordinates'][0]\n",
    "    coord_list_yx = swap_coordinate_xy_for_list(coord_list_xy)\n",
    "    \n",
    "    roi_layer = ipyleaflet.Polygon(\n",
    "        name='TEST update ROI Polygon',\n",
    "        locations=coord_list_yx,\n",
    "        weight=3,\n",
    "        color='#F00',\n",
    "        opacity=0.8,\n",
    "        fill_opacity=0.1,\n",
    "        fill_color='#F00'\n",
    "    )\n",
    "    roi_layer_group.clear_layers()\n",
    "    roi_layer_group.add_layer(roi_layer)\n",
    "    \n",
    "#     print('DEBUG ending update_roi_layer')"
   ]
  },
  {
   "cell_type": "code",
   "execution_count": null,
   "metadata": {},
   "outputs": [],
   "source": [
    "# Define the actions performed when the marker moves.\n",
    "def center_marker_on_move(change):\n",
    "    with out:\n",
    "#         print('DEBUG starting center_marker_on_move')\n",
    "#         print(change['new'])\n",
    "        update_roi_layer(map1)\n",
    "center_marker.unobserve_all()\n",
    "center_marker.observe(center_marker_on_move, names='location')"
   ]
  },
  {
   "cell_type": "code",
   "execution_count": null,
   "metadata": {},
   "outputs": [],
   "source": [
    "# Define the actions performed when the ROI size is changed.\n",
    "def roi_dimension_on_change(change):\n",
    "    with out:\n",
    "#         print('DEBUG starting roi_dimension_on_change')\n",
    "#         print(change['new'])\n",
    "        update_roi_layer(map1)\n",
    "roi_dimension.unobserve_all()\n",
    "roi_dimension.observe(roi_dimension_on_change, names='value')"
   ]
  },
  {
   "cell_type": "code",
   "execution_count": null,
   "metadata": {},
   "outputs": [],
   "source": []
  },
  {
   "cell_type": "markdown",
   "metadata": {},
   "source": [
    "# Testing out a series\n",
    "\n",
    "This section will demonstrate outputing an image time series for a hardcode location, time interval, and image collection."
   ]
  },
  {
   "cell_type": "code",
   "execution_count": null,
   "metadata": {},
   "outputs": [],
   "source": [
    "roi = {'type': 'Polygon',\n",
    "  'coordinates': [[[-62.091508, 80.942168],\n",
    "    [-62.027586, 80.774083],\n",
    "    [-59.974902, 80.780053],\n",
    "    [-59.992905, 80.945812],\n",
    "    [-62.091508, 80.942168]]]}\n",
    "\n",
    "# roi = {'type': 'Polygon',\n",
    "#   'coordinates': [[[-61.569142, 80.917193],\n",
    "#     [-60.891938, 80.959731],\n",
    "#     [-61.01253, 80.832927],\n",
    "#     [-61.569142, 80.917193]]]}"
   ]
  },
  {
   "cell_type": "code",
   "execution_count": null,
   "metadata": {},
   "outputs": [],
   "source": [
    "start_date = ee.Date('2018-01-01')\n",
    "end_date = ee.Date('2018-02-01')\n",
    "collection = (\n",
    "    ee.ImageCollection('COPERNICUS/S1_GRD')\n",
    "      .filter(ee.Filter.eq('relativeOrbitNumber_start', 90.0))\n",
    "      .filter(ee.Filter.eq('sliceNumber', 16.0))\n",
    "      .filterDate(start_date, end_date)\n",
    "      .filterBounds(roi)\n",
    "      .filter(ee.Filter.listContains('transmitterReceiverPolarisation', 'HV'))\n",
    "      .select('HV')\n",
    ")\n",
    "print(collection.size().getInfo())"
   ]
  },
  {
   "cell_type": "code",
   "execution_count": null,
   "metadata": {},
   "outputs": [],
   "source": [
    "MAX_ELEMENTS=100\n",
    "images = collection.toList(MAX_ELEMENTS).getInfo()"
   ]
  },
  {
   "cell_type": "code",
   "execution_count": null,
   "metadata": {},
   "outputs": [],
   "source": [
    "[img['id'] for img in images]"
   ]
  },
  {
   "cell_type": "code",
   "execution_count": null,
   "metadata": {},
   "outputs": [],
   "source": [
    "import os\n",
    "output_directory = 'output'\n",
    "if not os.path.exists(output_directory):\n",
    "    os.makedirs(output_directory)"
   ]
  },
  {
   "cell_type": "code",
   "execution_count": null,
   "metadata": {},
   "outputs": [],
   "source": [
    "import datetime\n",
    "from IPython.display import Image\n",
    "import imageio\n",
    "import pprint\n",
    "import PIL.Image\n",
    "import PIL.ImageDraw\n",
    "import PIL.ImageFont\n",
    "import requests\n",
    "import numpy\n",
    "\n",
    "pp = pprint.PrettyPrinter(indent=4)\n",
    "\n",
    "sc = Sidecar(title='Images!')\n",
    "with sc:\n",
    "    image_no = 0\n",
    "    \n",
    "    for img in images:\n",
    "        image_no += 1\n",
    "        id = img['id']\n",
    "        print(id)\n",
    "\n",
    "        image_time_ms = img['properties']['system:time_start']\n",
    "        start_time = datetime.datetime.fromtimestamp(image_time_ms/1000.0)\n",
    "\n",
    "        sample = ee.Image(id)\n",
    "        url = sample.getThumbUrl({\n",
    "            'bands': 'HH',\n",
    "            'min':-20,\n",
    "            'max':0,\n",
    "            'region':roi\n",
    "        })\n",
    "        \n",
    "\n",
    "        # Create a base image, from the Earth Engine Thumbnail URL.\n",
    "        base_ee = PIL.Image.open(requests.get(url, stream=True).raw).convert('RGBA')\n",
    "\n",
    "        # Create a background image.\n",
    "        background = PIL.Image.new('RGBA', base_ee.size, (12,12,12,255))\n",
    "        \n",
    "        # Burn the EE data onto the backgound.\n",
    "        base = PIL.Image.alpha_composite(background, base_ee)\n",
    "        \n",
    "        # make a blank image for the text, initialized to transparent text color\n",
    "        txt = PIL.Image.new('RGBA', base_ee.size, (255,255,255,0))\n",
    "        \n",
    "        # Get a font\n",
    "        #fnt = PIL.ImageFont.truetype('Pillow/Tests/fonts/FreeMono.ttf', 30)\n",
    "        fnt = PIL.ImageFont.truetype('Pillow/Tests/fonts/DejaVuSans.ttf', 30)\n",
    "        \n",
    "        # get a drawing context\n",
    "        d = PIL.ImageDraw.Draw(txt)\n",
    "        # Draw text. For date formatting codes see:\n",
    "        # https://docs.python.org/3/library/datetime.html#strftime-and-strptime-behavior\n",
    "        date_string = '{:%Y-%m-%d %H:%M:%S}'.format(start_time)\n",
    "        d.text((10,10), date_string, font=fnt, fill=(255,0,0,255))\n",
    "        # Composite the image and text annotation.\n",
    "        out = PIL.Image.alpha_composite(base, txt)\n",
    "        \n",
    "        outfile = '{0}/img{1:03d}.png'.format(output_directory, image_no)\n",
    "        out.save(outfile, format='PNG')\n",
    "\n",
    "        display(out)"
   ]
  },
  {
   "cell_type": "markdown",
   "metadata": {},
   "source": [
    "## Create an animated GIF."
   ]
  },
  {
   "cell_type": "code",
   "execution_count": null,
   "metadata": {},
   "outputs": [],
   "source": [
    "import glob\n",
    "\n",
    "gif_images = []\n",
    "filenames = sorted(glob.glob('output/img???.png'))\n",
    "for filename in filenames:\n",
    "    gif_images.append(imageio.imread(filename))\n",
    "imageio.mimsave('output/movie.gif', gif_images, 'GIF', duration=0.5)"
   ]
  },
  {
   "cell_type": "markdown",
   "metadata": {},
   "source": [
    "## Create an MPEG video."
   ]
  },
  {
   "cell_type": "code",
   "execution_count": null,
   "metadata": {},
   "outputs": [],
   "source": [
    "%%bash  \n",
    "ffmpeg -r 1 \\\n",
    "    -i output/img%03d.png \\\n",
    "    -vcodec mpeg4 \\\n",
    "    -y output/out.mp4"
   ]
  },
  {
   "cell_type": "markdown",
   "metadata": {},
   "source": [
    "# Experiment with BQPlot date range selection"
   ]
  },
  {
   "cell_type": "code",
   "execution_count": null,
   "metadata": {},
   "outputs": [],
   "source": [
    "import bqplot\n",
    "import pandas as pd\n",
    "import numpy as np"
   ]
  },
  {
   "cell_type": "code",
   "execution_count": null,
   "metadata": {},
   "outputs": [],
   "source": [
    "symbol = 'Security 1'\n",
    "\n",
    "price_data = pd.DataFrame(\n",
    "    np.cumsum(np.random.randn(150, 2).dot([[0.5, 0.4], [0.4, 1.0]]), axis=0) + 100,\n",
    "    columns=['Security 1', 'Security 2'],\n",
    "    index=pd.date_range(start='01-01-2007', periods=150))\n",
    "\n",
    "dates_actual = price_data.index.values\n",
    "prices = price_data[symbol].values"
   ]
  },
  {
   "cell_type": "code",
   "execution_count": null,
   "metadata": {},
   "outputs": [],
   "source": [
    "## First we define a Figure\n",
    "dt_x_fast = bqplot.DateScale()\n",
    "lin_y = bqplot.LinearScale()\n",
    "\n",
    "x_ax = bqplot.Axis(\n",
    "    label='Index', scale=dt_x_fast)\n",
    "x_ay = bqplot.Axis(label=(symbol + ' Price'), scale=lin_y, orientation='vertical')\n",
    "lc = bqplot.Lines(x=dates_actual, y=prices, scales={'x': dt_x_fast, 'y': lin_y}, colors=['orange'])\n"
   ]
  },
  {
   "cell_type": "code",
   "execution_count": null,
   "metadata": {},
   "outputs": [],
   "source": [
    "## Next we define the type of selector we would like\n",
    "intsel_fast = bqplot.interacts.FastIntervalSelector(scale=dt_x_fast, marks=[lc, ])"
   ]
  },
  {
   "cell_type": "code",
   "execution_count": null,
   "metadata": {},
   "outputs": [],
   "source": [
    "## We use the HTML widget to see the value of what we are selecting and modify it when an interaction is performed\n",
    "## on the selector\n",
    "db_fast = ipywidgets.HTML()\n",
    "db_fast.value = 'The selected period is ' + str(intsel_fast.selected)\n",
    "\n",
    "fig_fast_intsel = bqplot.Figure(\n",
    "    marks=[lc, ],\n",
    "    axes=[x_ax, x_ay],\n",
    "    title='Fast Interval Selector Example',\n",
    "    interaction=intsel_fast #This is where we assign the interaction to this particular Figure\n",
    ")\n",
    "\n",
    "ipywidgets.VBox([db_fast, fig_fast_intsel])"
   ]
  },
  {
   "cell_type": "code",
   "execution_count": null,
   "metadata": {},
   "outputs": [],
   "source": []
  }
 ],
 "metadata": {
  "kernelspec": {
   "display_name": "Python 3",
   "language": "python",
   "name": "python3"
  },
  "language_info": {
   "codemirror_mode": {
    "name": "ipython",
    "version": 3
   },
   "file_extension": ".py",
   "mimetype": "text/x-python",
   "name": "python",
   "nbconvert_exporter": "python",
   "pygments_lexer": "ipython3",
   "version": "3.6.5"
  }
 },
 "nbformat": 4,
 "nbformat_minor": 2
}
